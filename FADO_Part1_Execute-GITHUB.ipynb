{
 "cells": [
  {
   "cell_type": "markdown",
   "metadata": {},
   "source": [
    "<a href=\"FADO_QuickStartGuide-GITHUB.ipynb\">pyFADO QuickGuide</a> &nbsp;&nbsp; | &nbsp;&nbsp; <a href=\"FADO_Part1_Execute-GITHUB.ipynb\">1. Start FADO</a> &nbsp;&nbsp; | &nbsp;&nbsp; <a href=\"FADO_Part2_Execute-GITHUB.ipynb\">2. Running FADO</a> &nbsp;&nbsp; | &nbsp;&nbsp; <a href=\"FADO_Part3_Plots-GITHUB.ipynb\">3. Reading/Plotting FADO results</a><br><div align=\"right\">Jean Gomes @ 2019 : jean @ iastro.pt</div>"
   ]
  },
  {
   "cell_type": "markdown",
   "metadata": {},
   "source": [
    "THIS DOCUMENT CONTAINS:\n",
    "\n",
    "<br>\n",
    "<div style=\"border:1px solid #000;\">\n",
    "&#9679; 1 - Testing FADO without any arguments. Help & Options<pre>\n",
    "| 1.1 - Testing FADO help command\n",
    "| 1.2 - Testing FADO options command</pre>\n",
    "</div>\n",
    "\n",
    "# TUTORIAL: How to run a model using FADO"
   ]
  },
  {
   "cell_type": "markdown",
   "metadata": {},
   "source": [
    "After you have downloaded the correct version of FADO for your machine then it is time to run a model. You may want to rename the name of the binary to just FADO, in order to be more straight forward. The easiest way is to use just a few parameters invoked within a terminal. The '%%bash' in the beginning of the cell simulates a bash environment in your terminal:"
   ]
  },
  {
   "cell_type": "markdown",
   "metadata": {
    "scrolled": true
   },
   "source": [
    "Pseudo-command to invoke FADO from a terminal:<br><br>\n",
    "    \n",
    "<div style=\"border:1px solid #000;\"><br>\n",
    "./FADO <b>-i</b> parameter1 <b>-b</b> parameter2 <b>-r</b> parameter3 <b>-d</b> parameter4 <b>-u</b> parameter5\n",
    "<br><br></div>\n"
   ]
  },
  {
   "cell_type": "markdown",
   "metadata": {},
   "source": [
    "These parameters are quite intuitive. They can be used in any order by the user and correspond to: <br><br>\n",
    "\n",
    "Brief description of the basic options\n",
    "    \n",
    "<b>-i</b>: input observed spectrum<br>\n",
    "\n",
    "<b>-b</b>: full path to base directory containing the Simple Stellar Population library <br>\n",
    "\n",
    "<b>-r</b>: resolution (mean FWHM across wavelength in [Å]) of the input spectrum <br>\n",
    "\n",
    "<b>-d</b>: distance to the galaxy in Mpc. If omitted, FADO assumes 10 Mpc. Important for distance-dependent quantities (e.g., stellar masses, luminosities and Lyman continuum photon rates). \n",
    "\n",
    "<b>-u</b>: normalization factor to [erg/s/cm<sup>2</sup>/Å] in case the units are not the physical ones\n",
    "\n",
    "This tutorial is divided in three parts:\n",
    "\n",
    "● 1 - Testing FADO without any arguments. Help & Options (this page)<br>\n",
    "● 2 - Running your first fit with FADO (page 2)<br>\n",
    "● 3 - Reading & plotting: ready to go modules ReadFADOv01.py and PlotFADOv01.py (page 3)"
   ]
  },
  {
   "cell_type": "markdown",
   "metadata": {},
   "source": [
    "### &#9679; 1 - Testing FADO <b>without</b> any arguments. Help & Options\n",
    "\n",
    "A concrete example is given below. If you just execute the code in a terminal without any argument, then you get a welcome screen with the user and its version. There is also information regarding a help command and options in the code. You can also see some notes ready to be listened... ♪♪♪♪"
   ]
  },
  {
   "cell_type": "code",
   "execution_count": 1,
   "metadata": {
    "scrolled": true
   },
   "outputs": [
    {
     "name": "stdout",
     "output_type": "stream",
     "text": [
      "    ... user     : jean\n",
      "    ... tight    : 20101\n",
      "    ... existlock: F\n",
      "    ... DELETED\n",
      "\n",
      "♪♪♪♪♪♪♪♪♪♪♪♪♪♪♪♪♪♪♪♪♪♪♪♪♪♪♪♪♪♪♪♪♪♪♪♪♪♪♪♪♪♪♪♪♪♪♪♪♪♪♪♪♪♪♪♪♪♪♪♪♪♪♪♪♪♪♪♪\n",
      "♪♪♪                          Welcome to                          ♪♪♪\n",
      "♪♪♪                                                              ♪♪♪\n",
      "♪♪♪  Fitting Analysis using Differential evolution Optimization  ♪♪♪\n",
      "♪♪♪                           FADO v1c                           ♪♪♪\n",
      "♪♪♪                                                              ♪♪♪\n",
      "♪♪♪♪♪♪♪♪♪♪♪♪♪♪♪♪♪♪♪♪♪♪♪♪♪♪♪♪♪♪♪♪♪♪♪♪♪♪♪♪♪♪♪♪♪♪♪♪♪♪♪♪♪♪♪♪♪♪♪♪♪♪♪♪♪♪♪♪\n",
      "♪♪♪                                                              ♪♪♪\n",
      "♪♪♪                             .----.                           ♪♪♪\n",
      "♪♪♪                           [-|.  .|-]                         ♪♪♪\n",
      "♪♪♪                           [-|.\\/.|-]                         ♪♪♪\n",
      "♪♪♪                             \\||||/                ♪♪♪        ♪♪♪\n",
      "♪♪♪                              ||||                            ♪♪♪\n",
      "♪♪♪                              ||||            ♪♪♪             ♪♪♪\n",
      "♪♪♪                              ||||        ♪♪♪                 ♪♪♪\n",
      "♪♪♪                              ||||                            ♪♪♪\n",
      "♪♪♪                              ||||                 ♪♪♪        ♪♪♪\n",
      "♪♪♪                              ||||                            ♪♪♪\n",
      "♪♪♪                             /||||           ♪♪♪              ♪♪♪\n",
      "♪♪♪                           [-|||||                ♪♪♪         ♪♪♪\n",
      "♪♪♪                             |||||     ♪♪♪                    ♪♪♪\n",
      "♪♪♪                             |||||           ♪♪♪              ♪♪♪\n",
      "♪♪♪                             |||||     ♪♪♪                    ♪♪♪\n",
      "♪♪♪                             |||||                            ♪♪♪\n",
      "♪♪♪                           _.|||||._          ♪♪♪             ♪♪♪\n",
      "♪♪♪                        .-`  |||||  `-.                       ♪♪♪\n",
      "♪♪♪                      .`     |||||     `.    ♪♪♪              ♪♪♪\n",
      "♪♪♪                    .`       |||||       `.                   ♪♪♪\n",
      "♪♪♪                   /         |||||       ♪♪♪                  ♪♪♪\n",
      "♪♪♪                  /          |||||          \\                 ♪♪♪\n",
      "♪♪♪                  |          |||||   ♪♪♪    |                 ♪♪♪\n",
      "♪♪♪                  |          _____          |                 ♪♪♪\n",
      "♪♪♪                  |-.       `-----`         |                 ♪♪♪\n",
      "♪♪♪                  \\  `.      |||||          /                 ♪♪♪\n",
      "♪♪♪                   \\   \\    .-----.        /                  ♪♪♪\n",
      "♪♪♪                    `.  \\   |     |      .`                   ♪♪♪\n",
      "♪♪♪                      `.|   `.    |    .`                     ♪♪♪\n",
      "♪♪♪                        `--._|____|_.-`                       ♪♪♪\n",
      "♪♪♪                                                              ♪♪♪\n",
      "♪♪♪♪♪♪♪♪♪♪♪♪♪♪♪♪♪♪♪♪♪♪♪♪♪♪♪♪♪♪♪♪♪♪♪♪♪♪♪♪♪♪♪♪♪♪♪♪♪♪♪♪♪♪♪♪♪♪♪♪♪♪♪♪♪♪♪♪\n",
      "\n",
      "\n",
      "            Starting FADO v1c spectral synthesis code\n",
      "\n",
      "    Command line: 0\n",
      "\n",
      "    * Please type: -help for help\n",
      "                  ./FADO -help\n",
      "    * Please type: -options to see available options\n",
      "                  ./FADO -options\n"
     ]
    }
   ],
   "source": [
    "%%bash\n",
    "\n",
    "./FADO"
   ]
  },
  {
   "cell_type": "markdown",
   "metadata": {},
   "source": [
    "### &#9679; 1.1 - Testing FADO help command"
   ]
  },
  {
   "cell_type": "markdown",
   "metadata": {},
   "source": [
    "Now, let us check what help does by typing:"
   ]
  },
  {
   "cell_type": "code",
   "execution_count": 2,
   "metadata": {},
   "outputs": [
    {
     "name": "stdout",
     "output_type": "stream",
     "text": [
      "    ... user     : jean\n",
      "    ... tight    : 20101\n",
      "    ... existlock: F\n",
      "    ... DELETED\n",
      "\n",
      "♪♪♪♪♪♪♪♪♪♪♪♪♪♪♪♪♪♪♪♪♪♪♪♪♪♪♪♪♪♪♪♪♪♪♪♪♪♪♪♪♪♪♪♪♪♪♪♪♪♪♪♪♪♪♪♪♪♪♪♪♪♪♪♪♪♪♪♪\n",
      "♪♪♪                          Welcome to                          ♪♪♪\n",
      "♪♪♪                                                              ♪♪♪\n",
      "♪♪♪  Fitting Analysis using Differential evolution Optimization  ♪♪♪\n",
      "♪♪♪                           FADO v1c                           ♪♪♪\n",
      "♪♪♪                                                              ♪♪♪\n",
      "♪♪♪♪♪♪♪♪♪♪♪♪♪♪♪♪♪♪♪♪♪♪♪♪♪♪♪♪♪♪♪♪♪♪♪♪♪♪♪♪♪♪♪♪♪♪♪♪♪♪♪♪♪♪♪♪♪♪♪♪♪♪♪♪♪♪♪♪\n",
      "♪♪♪                                                              ♪♪♪\n",
      "♪♪♪                             .----.                           ♪♪♪\n",
      "♪♪♪                           [-|.  .|-]                         ♪♪♪\n",
      "♪♪♪                           [-|.\\/.|-]                         ♪♪♪\n",
      "♪♪♪                             \\||||/                ♪♪♪        ♪♪♪\n",
      "♪♪♪                              ||||                            ♪♪♪\n",
      "♪♪♪                              ||||            ♪♪♪             ♪♪♪\n",
      "♪♪♪                              ||||        ♪♪♪                 ♪♪♪\n",
      "♪♪♪                              ||||                            ♪♪♪\n",
      "♪♪♪                              ||||                 ♪♪♪        ♪♪♪\n",
      "♪♪♪                              ||||                            ♪♪♪\n",
      "♪♪♪                             /||||           ♪♪♪              ♪♪♪\n",
      "♪♪♪                           [-|||||                ♪♪♪         ♪♪♪\n",
      "♪♪♪                             |||||     ♪♪♪                    ♪♪♪\n",
      "♪♪♪                             |||||           ♪♪♪              ♪♪♪\n",
      "♪♪♪                             |||||     ♪♪♪                    ♪♪♪\n",
      "♪♪♪                             |||||                            ♪♪♪\n",
      "♪♪♪                           _.|||||._          ♪♪♪             ♪♪♪\n",
      "♪♪♪                        .-`  |||||  `-.                       ♪♪♪\n",
      "♪♪♪                      .`     |||||     `.    ♪♪♪              ♪♪♪\n",
      "♪♪♪                    .`       |||||       `.                   ♪♪♪\n",
      "♪♪♪                   /         |||||       ♪♪♪                  ♪♪♪\n",
      "♪♪♪                  /          |||||          \\                 ♪♪♪\n",
      "♪♪♪                  |          |||||   ♪♪♪    |                 ♪♪♪\n",
      "♪♪♪                  |          _____          |                 ♪♪♪\n",
      "♪♪♪                  |-.       `-----`         |                 ♪♪♪\n",
      "♪♪♪                  \\  `.      |||||          /                 ♪♪♪\n",
      "♪♪♪                   \\   \\    .-----.        /                  ♪♪♪\n",
      "♪♪♪                    `.  \\   |     |      .`                   ♪♪♪\n",
      "♪♪♪                      `.|   `.    |    .`                     ♪♪♪\n",
      "♪♪♪                        `--._|____|_.-`                       ♪♪♪\n",
      "♪♪♪                                                              ♪♪♪\n",
      "♪♪♪♪♪♪♪♪♪♪♪♪♪♪♪♪♪♪♪♪♪♪♪♪♪♪♪♪♪♪♪♪♪♪♪♪♪♪♪♪♪♪♪♪♪♪♪♪♪♪♪♪♪♪♪♪♪♪♪♪♪♪♪♪♪♪♪♪\n",
      "\n",
      "\n",
      "            Starting FADO v1c spectral synthesis code\n",
      "\n",
      "    Command line: -help\n",
      "\n",
      "♪♪♪♪♪♪♪♪♪♪♪♪♪♪♪♪♪♪♪♪♪♪♪♪♪♪♪♪♪♪♪♪♪♪♪♪♪♪♪♪♪♪♪♪♪♪♪♪♪♪♪♪♪♪♪♪♪♪♪♪♪♪♪♪♪♪♪♪\n",
      "♪     Help window activated                                        ♪\n",
      "♪                                                                  ♪\n",
      "♪     There are two main options to run FADO                       ♪\n",
      "♪                                                                  ♪\n",
      "♪     a)  Giving a list of parameters                              ♪\n",
      "♪         Optimal number of parameters to run FADO = 5             ♪\n",
      "♪                                                                  ♪\n",
      "♪         Standalone run for a single spectrum                     ♪\n",
      "♪         EXAMPLE:                                                 ♪\n",
      "\n",
      "./FADO -i gals_dir/spectrum        -b base_dir/arq_base -s lambdamin lambdamax lambdastep -r Resolution -d Distance\n",
      "\n",
      "♪                                                                  ♪\n",
      "♪         List of galaxies to run multiple FADO fits               ♪\n",
      "♪         EXAMPLE:                                                 ♪\n",
      "\n",
      "./FADO -l gals_dir/list_of_spectra -b base_dir/arq_base -s lambdamin lambdamax lambdastep -r Resolution -d Distance\n",
      "\n",
      "♪                                                                  ♪\n",
      "♪ OBS.:   The latter is always the best option for large data      ♪\n",
      "♪         sets, specially if the base elements are the same.       ♪\n",
      "♪         Therefore, it needs to be read only once, which saves    ♪\n",
      "♪         CPU processing time.                                     ♪\n",
      "♪                                                                  ♪\n",
      "♪         ∀ available options and usage type ./FADO -options       ♪\n",
      "♪                                                                  ♪\n",
      "♪ CAUTION ******************************************************** ♪\n",
      "♪         The FADO.config & PLOT.config files must be in           ♪\n",
      "♪         your executable directory. Otherwise they will be        ♪\n",
      "♪         automatically created with default options.              ♪\n",
      "♪ CAUTION ******************************************************** ♪\n",
      "♪                                                                  ♪\n",
      "♪ DATE: Tue May  1 16:09:13 WEST 2012 @ JMG                        ♪\n",
      "♪♪♪♪♪♪♪♪♪♪♪♪♪♪♪♪♪♪♪♪♪♪♪♪♪♪♪♪♪♪♪♪♪♪♪♪♪♪♪♪♪♪♪♪♪♪♪♪♪♪♪♪♪♪♪♪♪♪♪♪♪♪♪♪♪♪♪♪\n"
     ]
    }
   ],
   "source": [
    "%%bash\n",
    "\n",
    "./FADO -help"
   ]
  },
  {
   "cell_type": "markdown",
   "metadata": {},
   "source": [
    "Now, there is more information available. It appears on your screen the 'help window' with the minimum number of arguments needed for FADO. There are examples on how to fit a galaxy spectrum as well."
   ]
  },
  {
   "cell_type": "markdown",
   "metadata": {},
   "source": [
    "### &#9679; 1.2 - Testing FADO options command\n",
    "\n",
    "You can also try the following \"options\" command to see all the available options in FADO:"
   ]
  },
  {
   "cell_type": "code",
   "execution_count": 3,
   "metadata": {},
   "outputs": [
    {
     "name": "stdout",
     "output_type": "stream",
     "text": [
      "    ... user     : jean\n",
      "    ... tight    : 20101\n",
      "    ... existlock: F\n",
      "    ... DELETED\n",
      "\n",
      "♪♪♪♪♪♪♪♪♪♪♪♪♪♪♪♪♪♪♪♪♪♪♪♪♪♪♪♪♪♪♪♪♪♪♪♪♪♪♪♪♪♪♪♪♪♪♪♪♪♪♪♪♪♪♪♪♪♪♪♪♪♪♪♪♪♪♪♪\n",
      "♪♪♪                          Welcome to                          ♪♪♪\n",
      "♪♪♪                                                              ♪♪♪\n",
      "♪♪♪  Fitting Analysis using Differential evolution Optimization  ♪♪♪\n",
      "♪♪♪                           FADO v1c                           ♪♪♪\n",
      "♪♪♪                                                              ♪♪♪\n",
      "♪♪♪♪♪♪♪♪♪♪♪♪♪♪♪♪♪♪♪♪♪♪♪♪♪♪♪♪♪♪♪♪♪♪♪♪♪♪♪♪♪♪♪♪♪♪♪♪♪♪♪♪♪♪♪♪♪♪♪♪♪♪♪♪♪♪♪♪\n",
      "♪♪♪                                                              ♪♪♪\n",
      "♪♪♪                             .----.                           ♪♪♪\n",
      "♪♪♪                           [-|.  .|-]                         ♪♪♪\n",
      "♪♪♪                           [-|.\\/.|-]                         ♪♪♪\n",
      "♪♪♪                             \\||||/                ♪♪♪        ♪♪♪\n",
      "♪♪♪                              ||||                            ♪♪♪\n",
      "♪♪♪                              ||||            ♪♪♪             ♪♪♪\n",
      "♪♪♪                              ||||        ♪♪♪                 ♪♪♪\n",
      "♪♪♪                              ||||                            ♪♪♪\n",
      "♪♪♪                              ||||                 ♪♪♪        ♪♪♪\n",
      "♪♪♪                              ||||                            ♪♪♪\n",
      "♪♪♪                             /||||           ♪♪♪              ♪♪♪\n",
      "♪♪♪                           [-|||||                ♪♪♪         ♪♪♪\n",
      "♪♪♪                             |||||     ♪♪♪                    ♪♪♪\n",
      "♪♪♪                             |||||           ♪♪♪              ♪♪♪\n",
      "♪♪♪                             |||||     ♪♪♪                    ♪♪♪\n",
      "♪♪♪                             |||||                            ♪♪♪\n",
      "♪♪♪                           _.|||||._          ♪♪♪             ♪♪♪\n",
      "♪♪♪                        .-`  |||||  `-.                       ♪♪♪\n",
      "♪♪♪                      .`     |||||     `.    ♪♪♪              ♪♪♪\n",
      "♪♪♪                    .`       |||||       `.                   ♪♪♪\n",
      "♪♪♪                   /         |||||       ♪♪♪                  ♪♪♪\n",
      "♪♪♪                  /          |||||          \\                 ♪♪♪\n",
      "♪♪♪                  |          |||||   ♪♪♪    |                 ♪♪♪\n",
      "♪♪♪                  |          _____          |                 ♪♪♪\n",
      "♪♪♪                  |-.       `-----`         |                 ♪♪♪\n",
      "♪♪♪                  \\  `.      |||||          /                 ♪♪♪\n",
      "♪♪♪                   \\   \\    .-----.        /                  ♪♪♪\n",
      "♪♪♪                    `.  \\   |     |      .`                   ♪♪♪\n",
      "♪♪♪                      `.|   `.    |    .`                     ♪♪♪\n",
      "♪♪♪                        `--._|____|_.-`                       ♪♪♪\n",
      "♪♪♪                                                              ♪♪♪\n",
      "♪♪♪♪♪♪♪♪♪♪♪♪♪♪♪♪♪♪♪♪♪♪♪♪♪♪♪♪♪♪♪♪♪♪♪♪♪♪♪♪♪♪♪♪♪♪♪♪♪♪♪♪♪♪♪♪♪♪♪♪♪♪♪♪♪♪♪♪\n",
      "\n",
      "\n",
      "            Starting FADO v1c spectral synthesis code\n",
      "\n",
      "    Command line: -options\n",
      "\n",
      "♪♪♪♪♪♪♪♪♪♪♪♪♪♪♪♪♪♪♪♪♪♪♪♪♪♪♪♪♪♪♪♪♪♪♪♪♪♪♪♪♪♪♪♪♪♪♪♪♪♪♪♪♪♪♪♪♪♪♪♪♪♪♪♪♪♪♪♪♪♪♪♪\n",
      "♪ Fitting Analysis using Differential Evolution Optimization           |\n",
      "♪ Version: v1c                                                         |\n",
      "♪ NAME ->: FADO OdieAuroraJM  release                                  |\n",
      "♪                                                                      |\n",
      "♪-----------------------------------------------------------------------\n",
      "♪ Options     | Description        Usage                               |\n",
      "♪-----------------------------------------------------------------------\n",
      "♪                                                                      |\n",
      "♪ -help      |              Help: -help                                |\n",
      "♪ -demo      |     Demonstration: -demo                                |\n",
      "♪ -license   |   License KeyType: -license                             |\n",
      "♪ -version   |   Current version: -version                             |\n",
      "♪ -verbosity |   Verbosity modes: -verbosity                           |\n",
      "♪                                                                      |\n",
      "♪ -------------------------------------------------------------------- ♪\n",
      "♪                                                                      |\n",
      "♪ -b         |  file & directory: -b    basefile base_dir              |\n",
      "♪               directory & file: -b    base_dir basefile              |\n",
      "♪               directory / file: -b    base_dir/basefile              |\n",
      "♪ -c         |  file & directory: -c    filename conf_dir              |\n",
      "♪               directory & file: -c    conf_dir filename              |\n",
      "♪               directory / file: -c    conf_dir/filename              |\n",
      "♪ -d         |          distance: -d    Distance                       |\n",
      "♪ -g         |    Gas conditions: -g    Condition                      |\n",
      "♪ -i         |  file & directory: -i    filename file_dir              |\n",
      "♪               directory & file: -i    file_dir filename              |\n",
      "♪               directory / file: -i    file_dir/filename              |\n",
      "♪ -l         |  list & directory: -l    listname file_dir              |\n",
      "♪               directory & list: -l    file_dir listname              |\n",
      "♪               directory / list: -l    file_dir/listname              |\n",
      "♪ -o         |  file & directory: -o    filename file_dir              |\n",
      "♪               directory & file: -o    file_dir filename              |\n",
      "♪               directory / file: -o    file_dir/filename              |\n",
      "♪ -p         |  file & directory: -p    filename file_dir              |\n",
      "♪               directory & file: -p    file_dir filename              |\n",
      "♪               directory / file: -p    file_dir/filename              |\n",
      "♪ -r         |                  : -r    Resolution                     |\n",
      "♪ -s         |     Synthesis par: -s    lambdamin lambdamax lambdastep |\n",
      "♪ -u         |                  : -u    FluxUnit                       |\n",
      "♪ -v         |      Set velocity: -v    min_vel max_vel deltavel       |\n",
      "♪                                                                      |\n",
      "♪ -------------------------------------------------------------------- ♪\n",
      "♪                                                                      |\n",
      "♪ EXTRAS     |                                                         |\n",
      "♪ -mdir      |  file & directory: -mdir arq_mask mask_dir              |\n",
      "♪ -mode      |          Run mode: -mode Run_Mode                       |\n",
      "♪ -pdir      |  file & directory: -pdir filename plot_con              |\n",
      "♪               directory & file: -pdir plot_con filename              |\n",
      "♪               directory / file: -pdir plot_con/filename              |\n",
      "♪ -verbose   |     Set verbosity: -verbose Number_v (00 -- 10)         |\n",
      "♪                                                                      |\n",
      "♪ DATE: Tue May  1 16:09:13 WEST 2012 @ JMG                            ♪\n",
      "♪ DATE: Thu Mar  1 14:19:25 WET  2018 @ JMG                            ♪\n",
      "♪-----------------------------------------------------------------------\n",
      "\n"
     ]
    }
   ],
   "source": [
    "%%bash\n",
    "\n",
    "./FADO -options"
   ]
  }
 ],
 "metadata": {
  "kernelspec": {
   "display_name": "Python 3.6",
   "language": "python",
   "name": "python_3.6"
  },
  "language_info": {
   "codemirror_mode": {
    "name": "ipython",
    "version": 3
   },
   "file_extension": ".py",
   "mimetype": "text/x-python",
   "name": "python",
   "nbconvert_exporter": "python",
   "pygments_lexer": "ipython3",
   "version": "3.6.5"
  }
 },
 "nbformat": 4,
 "nbformat_minor": 2
}
