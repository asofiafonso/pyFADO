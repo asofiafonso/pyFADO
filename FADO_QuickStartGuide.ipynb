{
 "cells": [
  {
   "cell_type": "markdown",
   "metadata": {},
   "source": [
    "<html><body><br><div align=\"center\"><font size=\"3\"><ul> <a href=\"FADO_QuickStartGuide.ipynb\" style=\"color:red\">pyFADO Start Guide</a> &nbsp;&nbsp; | &nbsp;&nbsp; <a href=\"FADO_Part1_Execute.ipynb\">1. Start FADO</a> &nbsp;&nbsp; | &nbsp;&nbsp; <a href=\"FADO_Part2_Execute.ipynb\">2. Running FADO</a> &nbsp;&nbsp; | &nbsp;&nbsp; <a href=\"FADO_Part3_Plots.ipynb\">3. Reading & Plotting FADO results</a></li></ul></font><br></div><div align=\"right\">Jean Gomes @ 2019</div></body></html>"
   ]
  },
  {
   "cell_type": "markdown",
   "metadata": {},
   "source": [
    "\n",
    "<div align=\"left\">\n",
    "<font size='7'><b>Welcome to <font color=\"purple\">pyFADO</font> tutorial</b></font>\n",
    "</div>"
   ]
  },
  {
   "cell_type": "markdown",
   "metadata": {},
   "source": [
    "<img src=\"http://spectralsynthesis.org/uploads/7/4/2/7/74273751/fado-logo-f-01.png\" alt=\"Simply Easy Learning\" width=\"250\">\n",
    "\n",
    "\n",
    "First of all you need to download a FADO pre-compiled version suitable for you. You can find it here or in the links below:<br><br>\n",
    "\n",
    "<center>http://spectralsynthesis.org/fado-downloads.html</center><br>\n",
    "\n",
    "The latest stable versions of FADO v1.c are compiled using the following configuration:\n",
    "\n",
    "<font color=\"red\">LINUX</font>\n",
    "- gcc version 4.8.5 (libgfortran3): FADO_LINUX_gcc4.8.5 (build on OpenSuse Leap 15.0)\n",
    "- gcc version 7.4.0 (libgfortran4): FADO_LINUX_gcc7.4.0 (build on OpenSuse Leap 15.0)\n",
    "\n",
    "<font color=\"red\">MAC OS X</font>\n",
    "- gcc version 8.3.0 (libgfortranX): FADO_MACOS_gcc8.3.0 (build on Mojave)\n",
    "\n",
    "<b>FADO v1.c</b> is the last version in Fortran 2008+, from now on it will be called FADO legacy software. The next versions will be fully integrated into a python bundle.\n",
    "\n",
    "Follow the tutorial page with examples here: <a href='http://localhost:8892/notebooks/FADO_Part1_Execute.ipynb'>FADO Tutorial</a>"
   ]
  },
  {
   "cell_type": "code",
   "execution_count": 1,
   "metadata": {},
   "outputs": [
    {
     "data": {
      "application/javascript": [
       "$.getScript(\"https://raw.github.com/marijnh/CodeMirror/master/mode/fortran/fortran.js\", function () {\n",
       "IPython.config.cell_magic_highlight['magic_fortran'] = {'reg':[/^%%fortran/]};});\n"
      ]
     },
     "metadata": {},
     "output_type": "display_data"
    }
   ],
   "source": [
    "%load_ext fortranmagic"
   ]
  },
  {
   "cell_type": "markdown",
   "metadata": {},
   "source": [
    "The following part is an excerpt of the original welcome screen from FADO (<font color=\"red\">legacy fortran code</font>). It was originally written in Object-oriented programming in Fortran 2008 standard. There are a few advantages of using the new fortran standard. One of them is the computational time for numerically intensive packages."
   ]
  },
  {
   "cell_type": "code",
   "execution_count": 2,
   "metadata": {},
   "outputs": [],
   "source": [
    "%%fortran\n",
    "\n",
    "! ###########################################################################\n",
    "!     RESUME : Define type of variables to be used in functions,            !\n",
    "!              subroutines or other modules.                                !\n",
    "!                                                                           !\n",
    "!                                                                           !\n",
    "!              This module is defined to simplify to single precision real  !\n",
    "!              variables.                                                   !\n",
    "!                                                                           !\n",
    "!         LOG: Fri Nov  9 11:04:55 WET 2018                                 !\n",
    "!              Added QP for quadruple precision                             !\n",
    "!                                                                           !\n",
    "!     Written: Jean Michel Gomes                                            !\n",
    "!     Checked: Sat Mar  9 16:54:28 WET  2013                                !\n",
    "!!!!!!!!!!!!!!!!!!!!!!!!!!!!!!!!!!!!!!!!!!!!!!!!!!!!!!!!!!!!!!!!!!!!!!!!!!!!!\n",
    "MODULE ModDataType\n",
    "\n",
    "    integer  (kind=04), parameter :: IB=0004,SP=0004,RP=0008,QP=0016,       &\n",
    "                                     CH=0300,ST=004,EC=1200\n",
    "\n",
    "END MODULE ModDataType\n",
    "! ###########################################################################\n",
    "\n",
    "! Jean@Porto - Sat Mar  9 16:54:28 WET  2013 ++++++++++++++++++++++++++++++++\n",
    "\n",
    "! ###########################################################################\n",
    "!     RESUME : Welcome screen for FADO.                                     !\n",
    "!                                                                           !\n",
    "!              Copyright Oficial © Jean Michel Gomes                        !\n",
    "!                                                                           !\n",
    "!              This file is part of the original FADO distribution package. !\n",
    "!                                                                           !\n",
    "!              Fitting Analysis using Differential Evolution Optimization - !\n",
    "!              FADO is a private software, however, you can redistribute the!\n",
    "!              executable without prior authorization from the authors.     !\n",
    "!                                                                           !\n",
    "!              FADO is distributed in the hope that it will be useful, but  !\n",
    "!              WITHOUT ANY WARRANTY; without even the implied warranty of   !\n",
    "!              MERCHANTABILITY or FITNESS FOR A PARTICULAR PURPOSE.         !\n",
    "!                                                                           !\n",
    "!     Written: Jean Michel Gomes                                            !\n",
    "!     Checked: First version  8 de Maio de 2009 (Sexta-Feira)               !\n",
    "!!!!!!!!!!!!!!!!!!!!!!!!!!!!!!!!!!!!!!!!!!!!!!!!!!!!!!!!!!!!!!!!!!!!!!!!!!!!!\n",
    "SUBROUTINE screen( Fversion,F_output,LN )\n",
    "\n",
    "    use ModDataType\n",
    "    use iso_c_binding\n",
    "    \n",
    "    implicit none\n",
    "    integer  (kind=IB) :: i\n",
    "    integer  (kind=IB), intent(in) :: LN\n",
    "    character (len=LN), intent(in) :: Fversion\n",
    "    character (len=LN), intent(out) :: F_output\n",
    "\n",
    "! *** Welcome screen with an ASCII ART **************************************\n",
    "    write (*,*)\n",
    "    write (*,'(100a)') ('♪',i=1,68)\n",
    "    write (*,'(a,26x,a,26x,a)')   '♪♪♪','Welcome to','♪♪♪'\n",
    "    write (*,'(a)') '♪♪♪                                                              ♪♪♪'\n",
    "    write (*,'(a,2x,a,2x,a)')     '♪♪♪','Fitting Analysis using Differential evolution Optimization','♪♪♪'\n",
    "    write (*,'(a,27x,a,a,27x,a)') '♪♪♪','FADO ',trim(adjustl(Fversion)),'♪♪♪'\n",
    "    write (*,'(a)') '♪♪♪                                                              ♪♪♪'\n",
    "    write (*,'(100a)') ('♪',i=1,68)\n",
    "    write (*,'(a)') '♪♪♪                                                              ♪♪♪'\n",
    "    write (*,'(a)') '♪♪♪                             .----.                           ♪♪♪'\n",
    "    write (*,'(a)') '♪♪♪                           [-|.  .|-]                         ♪♪♪'\n",
    "    write (*,'(a)') '♪♪♪                           [-|.\\/.|-]                         ♪♪♪'\n",
    "    write (*,'(a)') '♪♪♪                             \\||||/                ♪♪♪        ♪♪♪'\n",
    "    write (*,'(a)') '♪♪♪                              ||||                            ♪♪♪'\n",
    "    write (*,'(a)') '♪♪♪                              ||||            ♪♪♪             ♪♪♪'\n",
    "    write (*,'(a)') '♪♪♪                              ||||        ♪♪♪                 ♪♪♪'\n",
    "    write (*,'(a)') '♪♪♪                              ||||                            ♪♪♪'\n",
    "    write (*,'(a)') '♪♪♪                              ||||                 ♪♪♪        ♪♪♪'\n",
    "    write (*,'(a)') '♪♪♪                              ||||                            ♪♪♪'\n",
    "    write (*,'(a)') '♪♪♪                             /||||           ♪♪♪              ♪♪♪'\n",
    "    write (*,'(a)') '♪♪♪                           [-|||||                ♪♪♪         ♪♪♪'\n",
    "    write (*,'(a)') '♪♪♪                             |||||     ♪♪♪                    ♪♪♪'\n",
    "    write (*,'(a)') '♪♪♪                             |||||           ♪♪♪              ♪♪♪'\n",
    "    write (*,'(a)') '♪♪♪                             |||||     ♪♪♪                    ♪♪♪'\n",
    "    write (*,'(a)') '♪♪♪                             |||||                            ♪♪♪'\n",
    "    write (*,'(a)') '♪♪♪                           _.|||||._          ♪♪♪             ♪♪♪'\n",
    "    write (*,'(a)') '♪♪♪                        .-`  |||||  `-.                       ♪♪♪'\n",
    "    write (*,'(a)') '♪♪♪                      .`     |||||     `.    ♪♪♪              ♪♪♪'\n",
    "    write (*,'(a)') '♪♪♪                    .`       |||||       `.                   ♪♪♪'\n",
    "    write (*,'(a)') '♪♪♪                   /         |||||       ♪♪♪                  ♪♪♪'\n",
    "    write (*,'(a)') '♪♪♪                  /          |||||          \\                 ♪♪♪'\n",
    "    write (*,'(a)') '♪♪♪                  |          |||||   ♪♪♪    |                 ♪♪♪'\n",
    "    write (*,'(a)') '♪♪♪                  |          _____          |                 ♪♪♪'\n",
    "    write (*,'(a)') '♪♪♪                  |-.       `-----`         |                 ♪♪♪'\n",
    "    write (*,'(a)') '♪♪♪                  \\  `.      |||||          /                 ♪♪♪'\n",
    "    write (*,'(a)') '♪♪♪                   \\   \\    .-----.        /                  ♪♪♪'\n",
    "    write (*,'(a)') '♪♪♪                    `.  \\   |     |      .`                   ♪♪♪'\n",
    "    write (*,'(a)') '♪♪♪                      `.|   `.    |    .`                     ♪♪♪'\n",
    "    write (*,'(a)') '♪♪♪                        `--._|____|_.-`                       ♪♪♪'\n",
    "    write (*,'(a)') '♪♪♪                                                              ♪♪♪'\n",
    "    write (*,'(100a)') ('♪',i=1,68)\n",
    "    write (*,*)\n",
    "! *** Welcome screen with an ASCII ART **************************************\n",
    "\n",
    "\n",
    "! *** Previously is the original screen *************************************\n",
    "!     RESUME: It will not be printed from python, so it has to be converted !\n",
    "!             into a python readable.                                       !\n",
    "!!!!!!!!!!!!!!!!!!!!!!!!!!!!!!!!!!!!!!!!!!!!!!!!!!!!!!!!!!!!!!!!!!!!!!!!!!!!!\n",
    "    F_output = '♪♪♪ Welcome to FADO'//trim(adjustl(Fversion))//' ♪♪♪'\n",
    "\n",
    "END SUBROUTINE screen"
   ]
  },
  {
   "cell_type": "code",
   "execution_count": 4,
   "metadata": {},
   "outputs": [
    {
     "name": "stdout",
     "output_type": "stream",
     "text": [
      "♪♪♪ Welcome to FADOv1.Python ♪♪♪                                                        \n"
     ]
    }
   ],
   "source": [
    "# This is a Python cell calling the welcome screen from FADO\n",
    "Fversion = 'v1.Python'\n",
    "\n",
    "LN = 100\n",
    "F_output = screen( Fversion,LN )\n",
    "F_output_string = F_output.decode(\"utf-8\")\n",
    "#print(type(F_output)) #; type(F_output_string)\n",
    "print( \"{:s}\".format(F_output_string) )"
   ]
  }
 ],
 "metadata": {
  "kernelspec": {
   "display_name": "Python 3.6",
   "language": "python",
   "name": "python_3.6"
  },
  "language_info": {
   "codemirror_mode": {
    "name": "ipython",
    "version": 3
   },
   "file_extension": ".py",
   "mimetype": "text/x-python",
   "name": "python",
   "nbconvert_exporter": "python",
   "pygments_lexer": "ipython3",
   "version": "3.6.5"
  }
 },
 "nbformat": 4,
 "nbformat_minor": 2
}
